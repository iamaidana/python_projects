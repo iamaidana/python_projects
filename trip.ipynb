{
 "cells": [
  {
   "cell_type": "code",
   "execution_count": 43,
   "metadata": {},
   "outputs": [],
   "source": [
    "import folium\n",
    "from folium.plugins import MarkerCluster\n",
    "import pandas as pd\n",
    "import numpy as np\n",
    "import matplotlib.pyplot as plt\n",
    "from collections import namedtuple"
   ]
  },
  {
   "cell_type": "code",
   "execution_count": 44,
   "metadata": {},
   "outputs": [],
   "source": [
    "harbin = [45.75, 126.6500015]\n",
    "rizhao = [35.4275, 119.45528]\n",
    "guangzhou = [23.128994, 113.253250]\n",
    "langkawi = [6.3499986, 99.7999968]"
   ]
  },
  {
   "cell_type": "code",
   "execution_count": 57,
   "metadata": {},
   "outputs": [],
   "source": [
    "trip = folium.Map(location=[45.759100,126.499338], \n",
    "                 zoom_start = 2, \n",
    "                 tiles = \"Mapbox bright\")"
   ]
  },
  {
   "cell_type": "code",
   "execution_count": 58,
   "metadata": {},
   "outputs": [
    {
     "data": {
      "text/plain": [
       "<folium.map.Marker at 0x27a708de710>"
      ]
     },
     "execution_count": 58,
     "metadata": {},
     "output_type": "execute_result"
    }
   ],
   "source": [
    "folium.Marker(location = harbin, \n",
    "              popup = 'Harbin',\n",
    "              icon = folium.Icon(color = 'blue')).add_to(trip)\n",
    "folium.Marker(location = rizhao, \n",
    "              popup = 'Rizhao', \n",
    "              icon = folium.Icon(color = 'blue')).add_to(trip)\n",
    "folium.Marker(location = guangzhou, \n",
    "              popup = 'Guangzhou', \n",
    "              icon = folium.Icon(color = 'blue')).add_to(trip)\n",
    "folium.Marker(location = langkawi, \n",
    "              popup = 'Langkawi', \n",
    "              icon = folium.Icon(color = 'blue')).add_to(trip)"
   ]
  },
  {
   "cell_type": "code",
   "execution_count": 63,
   "metadata": {},
   "outputs": [
    {
     "data": {
      "text/plain": [
       "<folium.vector_layers.PolyLine at 0x27a708b8c88>"
      ]
     },
     "execution_count": 63,
     "metadata": {},
     "output_type": "execute_result"
    }
   ],
   "source": [
    "folium.PolyLine(locations = [harbin, rizhao], \n",
    "                color=\"red\", weight=4, opacity=0.2).add_to(trip)\n",
    "folium.PolyLine(locations = [rizhao, guangzhou], \n",
    "                color=\"red\", weight=4, opacity=0.2).add_to(trip)\n",
    "folium.PolyLine(locations = [guangzhou, langkawi], \n",
    "                color=\"red\", weight=4, opacity=0.2).add_to(trip)"
   ]
  },
  {
   "cell_type": "code",
   "execution_count": 64,
   "metadata": {},
   "outputs": [],
   "source": [
    "trip.save(\"trip.html\")"
   ]
  },
  {
   "cell_type": "code",
   "execution_count": null,
   "metadata": {},
   "outputs": [],
   "source": []
  }
 ],
 "metadata": {
  "kernelspec": {
   "display_name": "Python 3",
   "language": "python",
   "name": "python3"
  },
  "language_info": {
   "codemirror_mode": {
    "name": "ipython",
    "version": 3
   },
   "file_extension": ".py",
   "mimetype": "text/x-python",
   "name": "python",
   "nbconvert_exporter": "python",
   "pygments_lexer": "ipython3",
   "version": "3.7.1"
  }
 },
 "nbformat": 4,
 "nbformat_minor": 2
}
