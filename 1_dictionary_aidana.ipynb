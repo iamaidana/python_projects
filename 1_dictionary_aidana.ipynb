{
 "cells": [
  {
   "cell_type": "code",
   "execution_count": 16,
   "metadata": {},
   "outputs": [],
   "source": [
    "import json\n",
    "import difflib\n",
    "from difflib import get_close_matches"
   ]
  },
  {
   "cell_type": "code",
   "execution_count": 17,
   "metadata": {},
   "outputs": [],
   "source": [
    "data = json.load(open(\"dictionary.json\"))"
   ]
  },
  {
   "cell_type": "code",
   "execution_count": 18,
   "metadata": {},
   "outputs": [],
   "source": [
    "def retrive_definition(word):\n",
    "    word = word.lower()\n",
    "    if word in data:\n",
    "        return data[word]\n",
    "    elif word.title() in data:\n",
    "        return data[word.title()]\n",
    "    elif word.upper() in data:\n",
    "        return data[word.upper()]\n",
    "    elif len(get_close_matches(word, data.keys())) > 0:\n",
    "        action = input(\"Did you mean %s instead? [y or n]: \" % get_close_matches(word, data.keys())[0])\n",
    "        if (action == \"y\"):\n",
    "            return data[get_close_matches(word, data.keys())[0]]\n",
    "        elif (action == \"n\"):\n",
    "            return (\"The word doesn't exist, yet.\")\n",
    "        else:\n",
    "            return (\"We don't understand your entry. Apologies.\")         "
   ]
  },
  {
   "cell_type": "code",
   "execution_count": 19,
   "metadata": {},
   "outputs": [
    {
     "name": "stdout",
     "output_type": "stream",
     "text": [
      "Enter a word: hugo\n",
      "Did you mean hug instead? [y or n]: y\n",
      "[\"To squeeze someone in one's arms.\", \"The act of squeezing someone in one's arms.\"]\n"
     ]
    }
   ],
   "source": [
    "word_user = input(\"Enter a word: \")\n",
    "print(retrive_definition(word_user))"
   ]
  },
  {
   "cell_type": "code",
   "execution_count": 20,
   "metadata": {},
   "outputs": [
    {
     "name": "stdout",
     "output_type": "stream",
     "text": [
      "Did you mean hug instead? [y or n]: y\n",
      "- To squeeze someone in one's arms.\n",
      "- The act of squeezing someone in one's arms.\n"
     ]
    }
   ],
   "source": [
    "output = retrive_definition(word_user)\n",
    "if type(output) == list:\n",
    "    for item in output:\n",
    "        print(\"-\",item)\n",
    "else:\n",
    "    print(\"-\",output)"
   ]
  },
  {
   "cell_type": "code",
   "execution_count": null,
   "metadata": {},
   "outputs": [],
   "source": []
  }
 ],
 "metadata": {
  "kernelspec": {
   "display_name": "Python 3",
   "language": "python",
   "name": "python3"
  },
  "language_info": {
   "codemirror_mode": {
    "name": "ipython",
    "version": 3
   },
   "file_extension": ".py",
   "mimetype": "text/x-python",
   "name": "python",
   "nbconvert_exporter": "python",
   "pygments_lexer": "ipython3",
   "version": "3.7.1"
  }
 },
 "nbformat": 4,
 "nbformat_minor": 2
}
